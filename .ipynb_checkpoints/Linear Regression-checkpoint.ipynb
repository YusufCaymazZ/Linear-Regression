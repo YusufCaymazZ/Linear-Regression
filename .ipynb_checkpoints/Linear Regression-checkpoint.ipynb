{
 "cells": [
  {
   "cell_type": "code",
   "execution_count": 141,
   "id": "07313348",
   "metadata": {},
   "outputs": [
    {
     "name": "stdout",
     "output_type": "stream",
     "text": [
      "['.ipynb_checkpoints', 'Linear Regression.ipynb', 'test.csv', 'train.csv']\n"
     ]
    }
   ],
   "source": [
    "print(os.listdir())"
   ]
  },
  {
   "cell_type": "code",
   "execution_count": 142,
   "id": "61d41b5c",
   "metadata": {
    "scrolled": true
   },
   "outputs": [
    {
     "name": "stdout",
     "output_type": "stream",
     "text": [
      "Requirement already satisfied: scikit-learn in c:\\users\\cayma\\anaconda3\\envs\\ml\\lib\\site-packages (1.3.2)\n",
      "Requirement already satisfied: numpy<2.0,>=1.17.3 in c:\\users\\cayma\\anaconda3\\envs\\ml\\lib\\site-packages (from scikit-learn) (1.24.1)\n",
      "Requirement already satisfied: scipy>=1.5.0 in c:\\users\\cayma\\anaconda3\\envs\\ml\\lib\\site-packages (from scikit-learn) (1.11.3)\n",
      "Requirement already satisfied: joblib>=1.1.1 in c:\\users\\cayma\\anaconda3\\envs\\ml\\lib\\site-packages (from scikit-learn) (1.3.2)\n",
      "Requirement already satisfied: threadpoolctl>=2.0.0 in c:\\users\\cayma\\anaconda3\\envs\\ml\\lib\\site-packages (from scikit-learn) (3.2.0)\n",
      "Note: you may need to restart the kernel to use updated packages.\n"
     ]
    }
   ],
   "source": [
    "pip install -U scikit-learn"
   ]
  },
  {
   "cell_type": "code",
   "execution_count": 143,
   "id": "3fec4416",
   "metadata": {},
   "outputs": [],
   "source": [
    "import pandas as pd\n",
    "import numpy as np\n",
    "import matplotlib.pyplot as plt\n",
    "from sklearn.linear_model import LinearRegression\n",
    "from sklearn.metrics import mean_squared_error"
   ]
  },
  {
   "cell_type": "code",
   "execution_count": 144,
   "id": "164e770c",
   "metadata": {},
   "outputs": [
    {
     "name": "stdout",
     "output_type": "stream",
     "text": [
      "There are 300 rows and 2 columns\n"
     ]
    }
   ],
   "source": [
    "df2 = pd.read_csv(\"test.csv\", delimiter = ',')\n",
    "df2.dataFrameName = \"test.csv\"\n",
    "nrow, ncol = df2.shape\n",
    "print(f'There are {nrow} rows and {ncol} columns')"
   ]
  },
  {
   "cell_type": "code",
   "execution_count": 145,
   "id": "ca9f7000",
   "metadata": {},
   "outputs": [
    {
     "name": "stdout",
     "output_type": "stream",
     "text": [
      "There are 300 rows and 2 columns\n"
     ]
    }
   ],
   "source": [
    "df11 = pd.read_csv(\"train.csv\", delimiter = ',')\n",
    "df1.dataFrameName = \"train.csv\"\n",
    "nrow, ncol = df1.shape\n",
    "print(f'There are {nrow} rows and {ncol} columns')"
   ]
  },
  {
   "cell_type": "code",
   "execution_count": 146,
   "id": "3eb5ab38",
   "metadata": {},
   "outputs": [
    {
     "data": {
      "text/html": [
       "<div>\n",
       "<style scoped>\n",
       "    .dataframe tbody tr th:only-of-type {\n",
       "        vertical-align: middle;\n",
       "    }\n",
       "\n",
       "    .dataframe tbody tr th {\n",
       "        vertical-align: top;\n",
       "    }\n",
       "\n",
       "    .dataframe thead th {\n",
       "        text-align: right;\n",
       "    }\n",
       "</style>\n",
       "<table border=\"1\" class=\"dataframe\">\n",
       "  <thead>\n",
       "    <tr style=\"text-align: right;\">\n",
       "      <th></th>\n",
       "      <th>x</th>\n",
       "      <th>y</th>\n",
       "    </tr>\n",
       "  </thead>\n",
       "  <tbody>\n",
       "    <tr>\n",
       "      <th>0</th>\n",
       "      <td>77</td>\n",
       "      <td>79.775152</td>\n",
       "    </tr>\n",
       "    <tr>\n",
       "      <th>1</th>\n",
       "      <td>21</td>\n",
       "      <td>23.177279</td>\n",
       "    </tr>\n",
       "    <tr>\n",
       "      <th>2</th>\n",
       "      <td>22</td>\n",
       "      <td>25.609262</td>\n",
       "    </tr>\n",
       "    <tr>\n",
       "      <th>3</th>\n",
       "      <td>20</td>\n",
       "      <td>17.857388</td>\n",
       "    </tr>\n",
       "    <tr>\n",
       "      <th>4</th>\n",
       "      <td>36</td>\n",
       "      <td>41.849864</td>\n",
       "    </tr>\n",
       "  </tbody>\n",
       "</table>\n",
       "</div>"
      ],
      "text/plain": [
       "    x          y\n",
       "0  77  79.775152\n",
       "1  21  23.177279\n",
       "2  22  25.609262\n",
       "3  20  17.857388\n",
       "4  36  41.849864"
      ]
     },
     "execution_count": 146,
     "metadata": {},
     "output_type": "execute_result"
    }
   ],
   "source": [
    "df1.head()"
   ]
  },
  {
   "cell_type": "code",
   "execution_count": 147,
   "id": "cdd58e0d",
   "metadata": {},
   "outputs": [
    {
     "data": {
      "text/html": [
       "<div>\n",
       "<style scoped>\n",
       "    .dataframe tbody tr th:only-of-type {\n",
       "        vertical-align: middle;\n",
       "    }\n",
       "\n",
       "    .dataframe tbody tr th {\n",
       "        vertical-align: top;\n",
       "    }\n",
       "\n",
       "    .dataframe thead th {\n",
       "        text-align: right;\n",
       "    }\n",
       "</style>\n",
       "<table border=\"1\" class=\"dataframe\">\n",
       "  <thead>\n",
       "    <tr style=\"text-align: right;\">\n",
       "      <th></th>\n",
       "      <th>x</th>\n",
       "      <th>y</th>\n",
       "    </tr>\n",
       "  </thead>\n",
       "  <tbody>\n",
       "    <tr>\n",
       "      <th>0</th>\n",
       "      <td>77</td>\n",
       "      <td>79.775152</td>\n",
       "    </tr>\n",
       "    <tr>\n",
       "      <th>1</th>\n",
       "      <td>21</td>\n",
       "      <td>23.177279</td>\n",
       "    </tr>\n",
       "    <tr>\n",
       "      <th>2</th>\n",
       "      <td>22</td>\n",
       "      <td>25.609262</td>\n",
       "    </tr>\n",
       "    <tr>\n",
       "      <th>3</th>\n",
       "      <td>20</td>\n",
       "      <td>17.857388</td>\n",
       "    </tr>\n",
       "    <tr>\n",
       "      <th>4</th>\n",
       "      <td>36</td>\n",
       "      <td>41.849864</td>\n",
       "    </tr>\n",
       "  </tbody>\n",
       "</table>\n",
       "</div>"
      ],
      "text/plain": [
       "    x          y\n",
       "0  77  79.775152\n",
       "1  21  23.177279\n",
       "2  22  25.609262\n",
       "3  20  17.857388\n",
       "4  36  41.849864"
      ]
     },
     "execution_count": 147,
     "metadata": {},
     "output_type": "execute_result"
    }
   ],
   "source": [
    "df2.head()"
   ]
  },
  {
   "cell_type": "code",
   "execution_count": 148,
   "id": "2b0000f4",
   "metadata": {},
   "outputs": [],
   "source": [
    "df1['y'].fillna(df1['y'].mean(), inplace=True)"
   ]
  },
  {
   "cell_type": "code",
   "execution_count": 149,
   "id": "dbd21522",
   "metadata": {},
   "outputs": [
    {
     "data": {
      "text/plain": [
       "x    0\n",
       "y    0\n",
       "dtype: int64"
      ]
     },
     "execution_count": 149,
     "metadata": {},
     "output_type": "execute_result"
    }
   ],
   "source": [
    "df1.isnull().sum()"
   ]
  },
  {
   "cell_type": "code",
   "execution_count": 150,
   "id": "caa55814",
   "metadata": {},
   "outputs": [],
   "source": [
    "X_train = df1[['x']]\n",
    "y_train = df1['y']\n",
    "\n",
    "X_test = df2[['x']]\n",
    "y_test = df2['y']"
   ]
  },
  {
   "cell_type": "code",
   "execution_count": 151,
   "id": "c6dc3714",
   "metadata": {},
   "outputs": [
    {
     "data": {
      "text/html": [
       "<div>\n",
       "<style scoped>\n",
       "    .dataframe tbody tr th:only-of-type {\n",
       "        vertical-align: middle;\n",
       "    }\n",
       "\n",
       "    .dataframe tbody tr th {\n",
       "        vertical-align: top;\n",
       "    }\n",
       "\n",
       "    .dataframe thead th {\n",
       "        text-align: right;\n",
       "    }\n",
       "</style>\n",
       "<table border=\"1\" class=\"dataframe\">\n",
       "  <thead>\n",
       "    <tr style=\"text-align: right;\">\n",
       "      <th></th>\n",
       "      <th>x</th>\n",
       "    </tr>\n",
       "  </thead>\n",
       "  <tbody>\n",
       "    <tr>\n",
       "      <th>0</th>\n",
       "      <td>77</td>\n",
       "    </tr>\n",
       "    <tr>\n",
       "      <th>1</th>\n",
       "      <td>21</td>\n",
       "    </tr>\n",
       "    <tr>\n",
       "      <th>2</th>\n",
       "      <td>22</td>\n",
       "    </tr>\n",
       "    <tr>\n",
       "      <th>3</th>\n",
       "      <td>20</td>\n",
       "    </tr>\n",
       "    <tr>\n",
       "      <th>4</th>\n",
       "      <td>36</td>\n",
       "    </tr>\n",
       "    <tr>\n",
       "      <th>...</th>\n",
       "      <td>...</td>\n",
       "    </tr>\n",
       "    <tr>\n",
       "      <th>295</th>\n",
       "      <td>71</td>\n",
       "    </tr>\n",
       "    <tr>\n",
       "      <th>296</th>\n",
       "      <td>46</td>\n",
       "    </tr>\n",
       "    <tr>\n",
       "      <th>297</th>\n",
       "      <td>55</td>\n",
       "    </tr>\n",
       "    <tr>\n",
       "      <th>298</th>\n",
       "      <td>62</td>\n",
       "    </tr>\n",
       "    <tr>\n",
       "      <th>299</th>\n",
       "      <td>47</td>\n",
       "    </tr>\n",
       "  </tbody>\n",
       "</table>\n",
       "<p>300 rows × 1 columns</p>\n",
       "</div>"
      ],
      "text/plain": [
       "      x\n",
       "0    77\n",
       "1    21\n",
       "2    22\n",
       "3    20\n",
       "4    36\n",
       "..   ..\n",
       "295  71\n",
       "296  46\n",
       "297  55\n",
       "298  62\n",
       "299  47\n",
       "\n",
       "[300 rows x 1 columns]"
      ]
     },
     "execution_count": 151,
     "metadata": {},
     "output_type": "execute_result"
    }
   ],
   "source": [
    "X_train"
   ]
  },
  {
   "cell_type": "code",
   "execution_count": 152,
   "id": "a5ae5818",
   "metadata": {},
   "outputs": [
    {
     "data": {
      "text/html": [
       "<style>#sk-container-id-5 {color: black;}#sk-container-id-5 pre{padding: 0;}#sk-container-id-5 div.sk-toggleable {background-color: white;}#sk-container-id-5 label.sk-toggleable__label {cursor: pointer;display: block;width: 100%;margin-bottom: 0;padding: 0.3em;box-sizing: border-box;text-align: center;}#sk-container-id-5 label.sk-toggleable__label-arrow:before {content: \"▸\";float: left;margin-right: 0.25em;color: #696969;}#sk-container-id-5 label.sk-toggleable__label-arrow:hover:before {color: black;}#sk-container-id-5 div.sk-estimator:hover label.sk-toggleable__label-arrow:before {color: black;}#sk-container-id-5 div.sk-toggleable__content {max-height: 0;max-width: 0;overflow: hidden;text-align: left;background-color: #f0f8ff;}#sk-container-id-5 div.sk-toggleable__content pre {margin: 0.2em;color: black;border-radius: 0.25em;background-color: #f0f8ff;}#sk-container-id-5 input.sk-toggleable__control:checked~div.sk-toggleable__content {max-height: 200px;max-width: 100%;overflow: auto;}#sk-container-id-5 input.sk-toggleable__control:checked~label.sk-toggleable__label-arrow:before {content: \"▾\";}#sk-container-id-5 div.sk-estimator input.sk-toggleable__control:checked~label.sk-toggleable__label {background-color: #d4ebff;}#sk-container-id-5 div.sk-label input.sk-toggleable__control:checked~label.sk-toggleable__label {background-color: #d4ebff;}#sk-container-id-5 input.sk-hidden--visually {border: 0;clip: rect(1px 1px 1px 1px);clip: rect(1px, 1px, 1px, 1px);height: 1px;margin: -1px;overflow: hidden;padding: 0;position: absolute;width: 1px;}#sk-container-id-5 div.sk-estimator {font-family: monospace;background-color: #f0f8ff;border: 1px dotted black;border-radius: 0.25em;box-sizing: border-box;margin-bottom: 0.5em;}#sk-container-id-5 div.sk-estimator:hover {background-color: #d4ebff;}#sk-container-id-5 div.sk-parallel-item::after {content: \"\";width: 100%;border-bottom: 1px solid gray;flex-grow: 1;}#sk-container-id-5 div.sk-label:hover label.sk-toggleable__label {background-color: #d4ebff;}#sk-container-id-5 div.sk-serial::before {content: \"\";position: absolute;border-left: 1px solid gray;box-sizing: border-box;top: 0;bottom: 0;left: 50%;z-index: 0;}#sk-container-id-5 div.sk-serial {display: flex;flex-direction: column;align-items: center;background-color: white;padding-right: 0.2em;padding-left: 0.2em;position: relative;}#sk-container-id-5 div.sk-item {position: relative;z-index: 1;}#sk-container-id-5 div.sk-parallel {display: flex;align-items: stretch;justify-content: center;background-color: white;position: relative;}#sk-container-id-5 div.sk-item::before, #sk-container-id-5 div.sk-parallel-item::before {content: \"\";position: absolute;border-left: 1px solid gray;box-sizing: border-box;top: 0;bottom: 0;left: 50%;z-index: -1;}#sk-container-id-5 div.sk-parallel-item {display: flex;flex-direction: column;z-index: 1;position: relative;background-color: white;}#sk-container-id-5 div.sk-parallel-item:first-child::after {align-self: flex-end;width: 50%;}#sk-container-id-5 div.sk-parallel-item:last-child::after {align-self: flex-start;width: 50%;}#sk-container-id-5 div.sk-parallel-item:only-child::after {width: 0;}#sk-container-id-5 div.sk-dashed-wrapped {border: 1px dashed gray;margin: 0 0.4em 0.5em 0.4em;box-sizing: border-box;padding-bottom: 0.4em;background-color: white;}#sk-container-id-5 div.sk-label label {font-family: monospace;font-weight: bold;display: inline-block;line-height: 1.2em;}#sk-container-id-5 div.sk-label-container {text-align: center;}#sk-container-id-5 div.sk-container {/* jupyter's `normalize.less` sets `[hidden] { display: none; }` but bootstrap.min.css set `[hidden] { display: none !important; }` so we also need the `!important` here to be able to override the default hidden behavior on the sphinx rendered scikit-learn.org. See: https://github.com/scikit-learn/scikit-learn/issues/21755 */display: inline-block !important;position: relative;}#sk-container-id-5 div.sk-text-repr-fallback {display: none;}</style><div id=\"sk-container-id-5\" class=\"sk-top-container\"><div class=\"sk-text-repr-fallback\"><pre>LinearRegression()</pre><b>In a Jupyter environment, please rerun this cell to show the HTML representation or trust the notebook. <br />On GitHub, the HTML representation is unable to render, please try loading this page with nbviewer.org.</b></div><div class=\"sk-container\" hidden><div class=\"sk-item\"><div class=\"sk-estimator sk-toggleable\"><input class=\"sk-toggleable__control sk-hidden--visually\" id=\"sk-estimator-id-5\" type=\"checkbox\" checked><label for=\"sk-estimator-id-5\" class=\"sk-toggleable__label sk-toggleable__label-arrow\">LinearRegression</label><div class=\"sk-toggleable__content\"><pre>LinearRegression()</pre></div></div></div></div></div>"
      ],
      "text/plain": [
       "LinearRegression()"
      ]
     },
     "execution_count": 152,
     "metadata": {},
     "output_type": "execute_result"
    }
   ],
   "source": [
    "model = LinearRegression()\n",
    "model.fit(X_train, y_train)"
   ]
  },
  {
   "cell_type": "code",
   "execution_count": 153,
   "id": "f69fdf22",
   "metadata": {},
   "outputs": [],
   "source": [
    "loss_history = []\n",
    "for i in range(1, len(X_train) + 1):\n",
    "    X_iter = X_train.iloc[:i]\n",
    "    y_iter = y_train.iloc[:i]\n",
    "    model.fit(X_iter, y_iter)\n",
    "    y_pred_iter = model.predict(X_iter)\n",
    "    loss = mean_squared_error(y_iter, y_pred_iter)\n",
    "    loss_history.append(loss)\n",
    "\n"
   ]
  },
  {
   "cell_type": "markdown",
   "id": "8839f18a",
   "metadata": {},
   "source": [
    "### Visualizing"
   ]
  },
  {
   "cell_type": "code",
   "execution_count": 154,
   "id": "de958947",
   "metadata": {
    "scrolled": true
   },
   "outputs": [
    {
     "data": {
      "text/plain": [
       "array([ 77.64201157,  20.83923168,  21.85356704,  19.82489633,\n",
       "        36.05426201,  14.75321955,  62.42698124,  95.90004796,\n",
       "        19.82489633,   4.609866  ,   3.59553065,  18.81056097,\n",
       "        96.91438332,  62.42698124,  36.05426201,  14.75321955,\n",
       "        65.46998731,  13.7388842 ,  87.78536512,  69.52732873,\n",
       "        89.81403583,  51.26929234,  89.81403583,  26.92524381,\n",
       "        97.92871867,  58.36963982,  79.67068228,  20.83923168,\n",
       "        93.87137725,  26.92524381,  99.95738938,  30.98258524,\n",
       "        33.01125595,  80.68501764,  27.93957917,  47.21195092,\n",
       "        53.29796305,  69.52732873,  27.93957917,  33.01125595,\n",
       "        91.84270654,  71.55599944,  50.25495698,  76.62767622,\n",
       "         3.59553065,  37.06859737,  70.54166408,  68.51299337,\n",
       "        40.11160343,  35.03992666,  94.88571261,  88.79970048,\n",
       "        52.28362769,  30.98258524,  59.38397518,  -0.46181077,\n",
       "        39.09726808,  64.45565195,  69.52732873,  57.35530447,\n",
       "        12.72454884,  72.57033479,  76.62767622,  61.41264589,\n",
       "        82.71368835,  17.79622562,  41.12593879,  50.25495698,\n",
       "        55.32663376,  12.72454884,  46.19761556,  12.72454884,\n",
       "        79.67068228,  53.29796305,  14.75321955,  27.93957917,\n",
       "        81.69935299,  69.52732873,  52.28362769,  84.74235906,\n",
       "        68.51299337,  26.92524381,  56.34096911,  48.22628627,\n",
       "        40.11160343,  39.09726808,  82.71368835, 100.97172474,\n",
       "        59.38397518,  43.1546095 ,  67.49865802,  38.08293272,\n",
       "        63.4413166 ,  91.84270654,  60.39831053,  13.7388842 ,\n",
       "        20.83923168,  87.78536512,  73.58467015,  31.99692059,\n",
       "         1.56685994,  82.71368835,  18.81056097,  74.59900551,\n",
       "        42.14027414,  11.71021349,   0.55252458,  90.82837119,\n",
       "        89.81403583,  -0.46181077,  41.12593879,  15.76755491,\n",
       "        94.88571261,  97.92871867,  66.48432266,  23.88223775,\n",
       "        16.78189026,  90.82837119,  12.72454884,  -0.46181077,\n",
       "        64.45565195,  96.91438332,  98.94305403,  11.71021349,\n",
       "        41.12593879,  47.21195092,  78.65634693,  19.82489633,\n",
       "        89.81403583,  28.95391452,  64.45565195,  75.61334086,\n",
       "        11.71021349,  24.8965731 ,  27.93957917,  29.96824988,\n",
       "        65.46998731,  59.38397518,  64.45565195,  53.29796305,\n",
       "        71.55599944,  97.92871867,  73.58467015,   8.66720742,\n",
       "        11.71021349,  63.4413166 ,  99.95738938,  60.39831053,\n",
       "        35.03992666,   1.56685994,  60.39831053,  31.99692059,\n",
       "        94.88571261,  84.74235906,  63.4413166 ,  21.85356704,\n",
       "        81.69935299,  93.87137725,  33.01125595,   6.63853671,\n",
       "        42.14027414,  46.19761556,  54.3122984 ,  15.76755491,\n",
       "        49.24062163,  43.1546095 ,  95.90004796,  66.48432266,\n",
       "        20.83923168,  35.03992666,  80.68501764,  37.06859737,\n",
       "        54.3122984 ,  56.34096911,   0.55252458,  31.99692059,\n",
       "        58.36963982,  31.99692059,  46.19761556,  72.57033479,\n",
       "        16.78189026,  97.92871867,  93.87137725,  91.84270654,\n",
       "        37.06859737,   3.59553065,  54.3122984 ,  51.26929234,\n",
       "        26.92524381,  46.19761556,  92.8570419 ,  73.58467015,\n",
       "        77.64201157,  91.84270654,  61.41264589,  99.95738938,\n",
       "         3.59553065,  72.57033479,  18.81056097,  57.35530447,\n",
       "        78.65634693,  25.91090846,  74.59900551,  90.82837119,\n",
       "        66.48432266,  12.72454884,  40.11160343,  77.64201157,\n",
       "        67.49865802,  75.61334086,  22.86790239,  45.18328021,\n",
       "        59.38397518,  44.16894485,  22.86790239,  55.32663376,\n",
       "        55.32663376,  95.90004796,  11.71021349,   3.59553065,\n",
       "         6.63853671, 100.97172474,  48.22628627,  42.14027414,\n",
       "        96.91438332,  39.09726808, 100.97172474,  87.78536512,\n",
       "        13.7388842 ,  13.7388842 ,  37.06859737,   4.609866  ,\n",
       "        88.79970048,  91.84270654,  65.46998731,  74.59900551,\n",
       "        56.34096911,  15.76755491,   4.609866  ,  27.93957917,\n",
       "        92.8570419 ,  46.19761556,  54.3122984 ,  39.09726808,\n",
       "        44.16894485,  30.98258524,  68.51299337,  86.77102977,\n",
       "        90.82837119,  38.08293272,  20.83923168,  95.90004796,\n",
       "        56.34096911,  60.39831053,  65.46998731,  78.65634693,\n",
       "        89.81403583,   5.62420136,  67.49865802,  36.05426201,\n",
       "        15.76755491, 100.97172474,  45.18328021,  73.58467015,\n",
       "        57.35530447,  19.82489633,  76.62767622,  34.0255913 ,\n",
       "        55.32663376,  72.57033479,  55.32663376,   7.65287207,\n",
       "        56.34096911,  72.57033479,  58.36963982,   5.62420136,\n",
       "        96.91438332,  22.86790239,  58.36963982,  22.86790239,\n",
       "        18.81056097,  24.8965731 ,  64.45565195,  20.83923168,\n",
       "        59.38397518,  18.81056097,  15.76755491,  42.14027414,\n",
       "        43.1546095 ,  61.41264589,  92.8570419 ,  10.69587813,\n",
       "        41.12593879,   0.55252458,   7.65287207,  71.55599944,\n",
       "        46.19761556,  55.32663376,  62.42698124,  47.21195092])"
      ]
     },
     "execution_count": 154,
     "metadata": {},
     "output_type": "execute_result"
    }
   ],
   "source": [
    "y_pred"
   ]
  },
  {
   "cell_type": "code",
   "execution_count": 155,
   "id": "ebf3bc69",
   "metadata": {
    "scrolled": true
   },
   "outputs": [
    {
     "data": {
      "text/plain": [
       "0      79.775152\n",
       "1      23.177279\n",
       "2      25.609262\n",
       "3      17.857388\n",
       "4      41.849864\n",
       "         ...    \n",
       "295    68.545888\n",
       "296    47.334876\n",
       "297    54.090637\n",
       "298    63.297171\n",
       "299    52.459467\n",
       "Name: y, Length: 300, dtype: float64"
      ]
     },
     "execution_count": 155,
     "metadata": {},
     "output_type": "execute_result"
    }
   ],
   "source": [
    "yTest"
   ]
  },
  {
   "cell_type": "code",
   "execution_count": 156,
   "id": "c095c22d",
   "metadata": {},
   "outputs": [
    {
     "data": {
      "image/png": "[encoded data removed]",
      "text/plain": [
       "<Figure size 640x480 with 1 Axes>"
      ]
     },
     "metadata": {},
     "output_type": "display_data"
    }
   ],
   "source": [
    "# Modelin tahminleri (y_pred) ile gerçek değerler (y_test) arasındaki ilişkiyi görselleştirin\n",
    "plt.scatter(X_test, y_test, color='purple', label='Gerçek Değerler')\n",
    "plt.scatter(X_test, y_pred, color='pink', label='Tahminler')\n",
    "plt.xlabel('Bağımsız Değişken (X)')\n",
    "plt.ylabel('Bağımlı Değişken (y)')\n",
    "plt.legend()\n",
    "plt.title('Gerçek Değerler ve Tahminler')\n",
    "plt.show()"
   ]
  },
  {
   "cell_type": "code",
   "execution_count": 160,
   "id": "8d6ac405",
   "metadata": {},
   "outputs": [
    {
     "data": {
      "image/png": "[encoded data removed]",
      "text/plain": [
       "<Figure size 640x480 with 1 Axes>"
      ]
     },
     "metadata": {},
     "output_type": "display_data"
    }
   ],
   "source": [
    "plt.plot(range(1, len(loss_history) + 1), loss_history)\n",
    "plt.xlabel('İterasyon')\n",
    "plt.ylabel('Kayıp (Loss)')\n",
    "plt.title('İterasyon Bazında Hata Grafiği')\n",
    "plt.show()"
   ]
  },
  {
   "cell_type": "code",
   "execution_count": null,
   "id": "5e25b529",
   "metadata": {},
   "outputs": [],
   "source": [
    "y_"
   ]
  }
 ],
 "metadata": {
  "kernelspec": {
   "display_name": "Python 3 (ipykernel)",
   "language": "python",
   "name": "python3"
  },
  "language_info": {
   "codemirror_mode": {
    "name": "ipython",
    "version": 3
   },
   "file_extension": ".py",
   "mimetype": "text/x-python",
   "name": "python",
   "nbconvert_exporter": "python",
   "pygments_lexer": "ipython3",
   "version": "3.10.13"
  }
 },
 "nbformat": 4,
 "nbformat_minor": 5
}
